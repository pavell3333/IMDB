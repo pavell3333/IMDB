{
  "nbformat": 4,
  "nbformat_minor": 0,
  "metadata": {
    "colab": {
      "name": "Embedded.ipynb",
      "provenance": [],
      "collapsed_sections": [],
      "toc_visible": true
    },
    "kernelspec": {
      "display_name": "Python 3",
      "name": "python3"
    },
    "accelerator": "GPU"
  },
  "cells": [
    {
      "cell_type": "code",
      "metadata": {
        "id": "HTsYFUH35rJu",
        "colab": {
          "base_uri": "https://localhost:8080/",
          "height": 34
        },
        "outputId": "54193e43-4379-410d-cd24-cc023b953610"
      },
      "source": [
        "# import numpy as np\n",
        "# import tensorflow as tf\n",
        "# import matplotlib.pyplot as plt\n",
        "# import keras\n",
        "\n",
        "# X = np.array([])\n",
        "# Y = np.array([])\n",
        "\n",
        "# for i in range(1000):\n",
        "#   X = np.append(X, i)\n",
        "#   Y = np.append(Y, i*2.85555555555+32.3)\n",
        "\n",
        "# l0 =tf.keras.layers.Dense(units =1, input_shape = [1])\n",
        "# model  = tf.keras.Sequential([l0])\n",
        "# model.compile(loss = 'mean_squared_error', optimizer = tf.keras.optimizers.Adam(0.1))\n",
        "\n",
        "# history = model.fit(X,Y, epochs =1000, verbose = False)\n",
        "# print(l0.get_weights())\n",
        "\n",
        "import tensorflow as tf\n",
        "\n",
        "tf.test.is_built_with_cuda()\n"
      ],
      "execution_count": null,
      "outputs": [
        {
          "output_type": "execute_result",
          "data": {
            "text/plain": [
              "True"
            ]
          },
          "metadata": {
            "tags": []
          },
          "execution_count": 1
        }
      ]
    },
    {
      "cell_type": "markdown",
      "metadata": {
        "id": "iKA2FiXx2n79"
      },
      "source": [
        "# Подготовка данных"
      ]
    },
    {
      "cell_type": "code",
      "metadata": {
        "id": "-wTSSSmq8Fh4",
        "colab": {
          "base_uri": "https://localhost:8080/",
          "height": 122
        },
        "outputId": "528277ca-d753-4ab8-da3d-20467f3ba913"
      },
      "source": [
        "from google.colab import drive\n",
        "drive.mount('/content/drive')"
      ],
      "execution_count": null,
      "outputs": [
        {
          "output_type": "stream",
          "text": [
            "Go to this URL in a browser: https://accounts.google.com/o/oauth2/auth?client_id=947318989803-6bn6qk8qdgf4n4g3pfee6491hc0brc4i.apps.googleusercontent.com&redirect_uri=urn%3aietf%3awg%3aoauth%3a2.0%3aoob&scope=email%20https%3a%2f%2fwww.googleapis.com%2fauth%2fdocs.test%20https%3a%2f%2fwww.googleapis.com%2fauth%2fdrive%20https%3a%2f%2fwww.googleapis.com%2fauth%2fdrive.photos.readonly%20https%3a%2f%2fwww.googleapis.com%2fauth%2fpeopleapi.readonly&response_type=code\n",
            "\n",
            "Enter your authorization code:\n",
            "4/4AH7piBY03eY8nNUUHA5FQ15DuYH660UYlrtcO5jDb2V7kpgT06BY0A\n",
            "Mounted at /content/drive\n"
          ],
          "name": "stdout"
        }
      ]
    },
    {
      "cell_type": "markdown",
      "metadata": {
        "id": "OCv2sCFur3UB"
      },
      "source": [
        "# Импортируем библиотеки"
      ]
    },
    {
      "cell_type": "code",
      "metadata": {
        "id": "3pF8Oyly771q"
      },
      "source": [
        "import tensorflow as tf\n",
        "from tensorflow.keras.datasets import imdb\n",
        "from tensorflow.keras.models import Sequential\n",
        "from tensorflow.keras.layers import Dense, Embedding, Flatten, Dropout\n",
        "from tensorflow.keras import utils\n",
        "from tensorflow.keras.preprocessing.sequence import pad_sequences\n",
        "from google.colab import files\n",
        "import numpy as np\n",
        "import matplotlib.pyplot as plt\n"
      ],
      "execution_count": null,
      "outputs": []
    },
    {
      "cell_type": "markdown",
      "metadata": {
        "id": "HKh5GCQrBIlL"
      },
      "source": [
        "Подготавливаем данные"
      ]
    },
    {
      "cell_type": "code",
      "metadata": {
        "id": "NpXLjAlnAi99",
        "colab": {
          "base_uri": "https://localhost:8080/",
          "height": 85
        },
        "outputId": "c66ee884-6bdd-46ae-b0c2-2174a0b53959"
      },
      "source": [
        "max_words = 10000\n",
        "\n",
        "(x_train, y_train), (x_test, y_test) = imdb.load_data(num_words= max_words)\n",
        "word_index = imdb.get_word_index()\n"
      ],
      "execution_count": null,
      "outputs": [
        {
          "output_type": "stream",
          "text": [
            "Downloading data from https://storage.googleapis.com/tensorflow/tf-keras-datasets/imdb.npz\n",
            "17465344/17464789 [==============================] - 0s 0us/step\n",
            "Downloading data from https://storage.googleapis.com/tensorflow/tf-keras-datasets/imdb_word_index.json\n",
            "1646592/1641221 [==============================] - 0s 0us/step\n"
          ],
          "name": "stdout"
        }
      ]
    },
    {
      "cell_type": "code",
      "metadata": {
        "id": "2P_vLy7k33zp"
      },
      "source": [
        "maxlen =200\n",
        "x_train = pad_sequences(x_train, maxlen=maxlen, padding = 'post')\n",
        "x_test  = pad_sequences(x_test, maxlen=maxlen, padding = 'post')"
      ],
      "execution_count": null,
      "outputs": []
    },
    {
      "cell_type": "code",
      "metadata": {
        "id": "0faPiG07AeYJ",
        "colab": {
          "base_uri": "https://localhost:8080/",
          "height": 340
        },
        "outputId": "6d352893-5366-43f7-efd4-d5695e2d12ea"
      },
      "source": [
        "x_train[0]"
      ],
      "execution_count": null,
      "outputs": [
        {
          "output_type": "execute_result",
          "data": {
            "text/plain": [
              "array([   5,   25,  100,   43,  838,  112,   50,  670,    2,    9,   35,\n",
              "        480,  284,    5,  150,    4,  172,  112,  167,    2,  336,  385,\n",
              "         39,    4,  172, 4536, 1111,   17,  546,   38,   13,  447,    4,\n",
              "        192,   50,   16,    6,  147, 2025,   19,   14,   22,    4, 1920,\n",
              "       4613,  469,    4,   22,   71,   87,   12,   16,   43,  530,   38,\n",
              "         76,   15,   13, 1247,    4,   22,   17,  515,   17,   12,   16,\n",
              "        626,   18,    2,    5,   62,  386,   12,    8,  316,    8,  106,\n",
              "          5,    4, 2223, 5244,   16,  480,   66, 3785,   33,    4,  130,\n",
              "         12,   16,   38,  619,    5,   25,  124,   51,   36,  135,   48,\n",
              "         25, 1415,   33,    6,   22,   12,  215,   28,   77,   52,    5,\n",
              "         14,  407,   16,   82,    2,    8,    4,  107,  117, 5952,   15,\n",
              "        256,    4,    2,    7, 3766,    5,  723,   36,   71,   43,  530,\n",
              "        476,   26,  400,  317,   46,    7,    4,    2, 1029,   13,  104,\n",
              "         88,    4,  381,   15,  297,   98,   32, 2071,   56,   26,  141,\n",
              "          6,  194, 7486,   18,    4,  226,   22,   21,  134,  476,   26,\n",
              "        480,    5,  144,   30, 5535,   18,   51,   36,   28,  224,   92,\n",
              "         25,  104,    4,  226,   65,   16,   38, 1334,   88,   12,   16,\n",
              "        283,    5,   16, 4472,  113,  103,   32,   15,   16, 5345,   19,\n",
              "        178,   32], dtype=int32)"
            ]
          },
          "metadata": {
            "tags": []
          },
          "execution_count": 4
        }
      ]
    },
    {
      "cell_type": "markdown",
      "metadata": {
        "id": "lOoJUaNUBboF"
      },
      "source": [
        "Создаем модель"
      ]
    },
    {
      "cell_type": "code",
      "metadata": {
        "id": "mEeYvLu1BUYw"
      },
      "source": [
        "model = Sequential()\n",
        "model.add(Embedding(max_words, 2, input_length=maxlen))\n",
        "model.add(Dropout(0.25))\n",
        "model.add(Flatten())\n",
        "model.add(Dense(1, activation = 'sigmoid'))"
      ],
      "execution_count": null,
      "outputs": []
    },
    {
      "cell_type": "code",
      "metadata": {
        "id": "5bLMlMLBF2hM"
      },
      "source": [
        "model.compile(optimizer='adam', loss = 'binary_crossentropy', metrics=['accuracy'])"
      ],
      "execution_count": null,
      "outputs": []
    },
    {
      "cell_type": "code",
      "metadata": {
        "id": "0xs77Nm_GM-L",
        "colab": {
          "base_uri": "https://localhost:8080/",
          "height": 527
        },
        "outputId": "b435994f-d199-4b0e-f469-5b68e6a13679"
      },
      "source": [
        "history = model.fit(x_train, y_train, epochs=15, batch_size=128, validation_split=0.1)"
      ],
      "execution_count": null,
      "outputs": [
        {
          "output_type": "stream",
          "text": [
            "Epoch 1/15\n",
            "176/176 [==============================] - 1s 5ms/step - loss: 0.6914 - accuracy: 0.5275 - val_loss: 0.6852 - val_accuracy: 0.5964\n",
            "Epoch 2/15\n",
            "176/176 [==============================] - 1s 4ms/step - loss: 0.6296 - accuracy: 0.7168 - val_loss: 0.5474 - val_accuracy: 0.7792\n",
            "Epoch 3/15\n",
            "176/176 [==============================] - 1s 4ms/step - loss: 0.4567 - accuracy: 0.8234 - val_loss: 0.4022 - val_accuracy: 0.8484\n",
            "Epoch 4/15\n",
            "176/176 [==============================] - 1s 4ms/step - loss: 0.3492 - accuracy: 0.8690 - val_loss: 0.3458 - val_accuracy: 0.8572\n",
            "Epoch 5/15\n",
            "176/176 [==============================] - 1s 4ms/step - loss: 0.2982 - accuracy: 0.8862 - val_loss: 0.3187 - val_accuracy: 0.8732\n",
            "Epoch 6/15\n",
            "176/176 [==============================] - 1s 4ms/step - loss: 0.2640 - accuracy: 0.9012 - val_loss: 0.3049 - val_accuracy: 0.8752\n",
            "Epoch 7/15\n",
            "176/176 [==============================] - 1s 4ms/step - loss: 0.2431 - accuracy: 0.9085 - val_loss: 0.2988 - val_accuracy: 0.8772\n",
            "Epoch 8/15\n",
            "176/176 [==============================] - 1s 4ms/step - loss: 0.2252 - accuracy: 0.9169 - val_loss: 0.2900 - val_accuracy: 0.8844\n",
            "Epoch 9/15\n",
            "176/176 [==============================] - 1s 4ms/step - loss: 0.2111 - accuracy: 0.9216 - val_loss: 0.2865 - val_accuracy: 0.8868\n",
            "Epoch 10/15\n",
            "176/176 [==============================] - 1s 4ms/step - loss: 0.2002 - accuracy: 0.9280 - val_loss: 0.2844 - val_accuracy: 0.8860\n",
            "Epoch 11/15\n",
            "176/176 [==============================] - 1s 4ms/step - loss: 0.1884 - accuracy: 0.9324 - val_loss: 0.2850 - val_accuracy: 0.8840\n",
            "Epoch 12/15\n",
            "176/176 [==============================] - 1s 4ms/step - loss: 0.1799 - accuracy: 0.9354 - val_loss: 0.2845 - val_accuracy: 0.8856\n",
            "Epoch 13/15\n",
            "176/176 [==============================] - 1s 4ms/step - loss: 0.1719 - accuracy: 0.9394 - val_loss: 0.2843 - val_accuracy: 0.8876\n",
            "Epoch 14/15\n",
            "176/176 [==============================] - 1s 4ms/step - loss: 0.1628 - accuracy: 0.9432 - val_loss: 0.2867 - val_accuracy: 0.8844\n",
            "Epoch 15/15\n",
            "176/176 [==============================] - 1s 4ms/step - loss: 0.1582 - accuracy: 0.9437 - val_loss: 0.2893 - val_accuracy: 0.8868\n"
          ],
          "name": "stdout"
        }
      ]
    },
    {
      "cell_type": "code",
      "metadata": {
        "id": "GKxebdDmGe5B",
        "colab": {
          "base_uri": "https://localhost:8080/",
          "height": 265
        },
        "outputId": "87812584-b215-497e-8616-a3a3a365520f"
      },
      "source": [
        "plt.plot(history.history['accuracy'], label = 'Точность на тестовых данных')\n",
        "plt.plot(history.history['val_accuracy'], label = 'Точность на валидации')\n",
        "plt.legend()\n",
        "plt.show()"
      ],
      "execution_count": null,
      "outputs": [
        {
          "output_type": "display_data",
          "data": {
            "image/png": "[encoded data removed]",
            "text/plain": [
              "<Figure size 432x288 with 1 Axes>"
            ]
          },
          "metadata": {
            "tags": [],
            "needs_background": "light"
          }
        }
      ]
    },
    {
      "cell_type": "markdown",
      "metadata": {
        "id": "aRz90vKPDNNF"
      },
      "source": [
        "Точность на тестовых данных"
      ]
    },
    {
      "cell_type": "code",
      "metadata": {
        "id": "9Yt5FXigHHhb",
        "colab": {
          "base_uri": "https://localhost:8080/",
          "height": 34
        },
        "outputId": "ee23ae05-d729-4bbe-892b-9c5744d8aefd"
      },
      "source": [
        "scores = model.evaluate(x_test, y_test, verbose=1)\n"
      ],
      "execution_count": null,
      "outputs": [
        {
          "output_type": "stream",
          "text": [
            "782/782 [==============================] - 1s 2ms/step - loss: 0.3048 - accuracy: 0.8726\n"
          ],
          "name": "stdout"
        }
      ]
    },
    {
      "cell_type": "code",
      "metadata": {
        "id": "5kKCG2DDHMLf"
      },
      "source": [
        "embedding_matrix = model.layers[0].get_weights()[0]"
      ],
      "execution_count": null,
      "outputs": []
    },
    {
      "cell_type": "code",
      "metadata": {
        "id": "errQwEZyHSX0",
        "colab": {
          "base_uri": "https://localhost:8080/",
          "height": 136
        },
        "outputId": "ed3f6d49-7305-4945-9aa6-66e72368be19"
      },
      "source": [
        "embedding_matrix"
      ],
      "execution_count": null,
      "outputs": [
        {
          "output_type": "execute_result",
          "data": {
            "text/plain": [
              "array([[-0.02234442, -0.01961089],\n",
              "       [-0.09836467,  0.15034214],\n",
              "       [-0.00971579,  0.04246315],\n",
              "       ...,\n",
              "       [ 0.20544414, -0.00718773],\n",
              "       [-0.10997351,  0.16038756],\n",
              "       [ 0.13566676, -0.19875583]], dtype=float32)"
            ]
          },
          "metadata": {
            "tags": []
          },
          "execution_count": 11
        }
      ]
    },
    {
      "cell_type": "code",
      "metadata": {
        "id": "itIj3FDjVWRV"
      },
      "source": [
        "word_i = dict()\n",
        "for word, number in word_index.items():\n",
        "  word_i[word] =number+3\n",
        "word_i['<Заполнитель>']=0\n",
        "word_i['<Начало последовательности>']=1\n",
        "word_i['<Неизвестное слово>']=2\n",
        "word_i['<Не используется>']=3\n",
        "\n"
      ],
      "execution_count": null,
      "outputs": []
    },
    {
      "cell_type": "code",
      "metadata": {
        "id": "ZvgNXzD-cP9w",
        "colab": {
          "base_uri": "https://localhost:8080/",
          "height": 51
        },
        "outputId": "6b22246f-ba01-4cef-be48-ffc7c4f7a5f3"
      },
      "source": [
        "word = 'bad'\n",
        "word_number= word_i[word]\n",
        "print('Номер слова:', word_number)\n",
        "print('Вектор для слова:', embedding_matrix[word_number])"
      ],
      "execution_count": null,
      "outputs": [
        {
          "output_type": "stream",
          "text": [
            "Номер слова: 78\n",
            "Вектор для слова: [-0.44122118  0.47854438]\n"
          ],
          "name": "stdout"
        }
      ]
    },
    {
      "cell_type": "code",
      "metadata": {
        "id": "WiYkWsurcxb2"
      },
      "source": [
        "reverse_word_index = dict()\n",
        "for key, value in word_i.items():\n",
        "  reverse_word_index[value]=key"
      ],
      "execution_count": null,
      "outputs": []
    },
    {
      "cell_type": "code",
      "metadata": {
        "id": "7cz9EYyvdWt3"
      },
      "source": [
        "filename = 'word_vec.csv'"
      ],
      "execution_count": null,
      "outputs": []
    },
    {
      "cell_type": "code",
      "metadata": {
        "id": "V758HyJMdkCB"
      },
      "source": [
        "with open(filename, 'w') as f:\n",
        "  for word_num in range(max_words):\n",
        "    word=reverse_word_index[word_num]\n",
        "    vec=embedding_matrix[word_num]\n",
        "    f.write(word+',')\n",
        "    f.write(','.join([str(x) for x in vec ])+'\\n')\n"
      ],
      "execution_count": null,
      "outputs": []
    },
    {
      "cell_type": "code",
      "metadata": {
        "id": "3wrO2ceqeW2i",
        "colab": {
          "base_uri": "https://localhost:8080/",
          "height": 357
        },
        "outputId": "80eda968-be6b-41d9-b51d-2e599ec19a5c"
      },
      "source": [
        "!head -n 20 $filename"
      ],
      "execution_count": null,
      "outputs": [
        {
          "output_type": "stream",
          "text": [
            "<Заполнитель>,-0.022344422,-0.019610895\n",
            "<Начало последовательности>,-0.09836467,0.15034214\n",
            "<Неизвестное слово>,-0.00971579,0.042463154\n",
            "<Не используется>,0.046307277,0.007912457\n",
            "the,0.026299624,-0.013843813\n",
            "and,0.032023236,-0.07817973\n",
            "a,0.008600413,0.0096460935\n",
            "of,0.00083110377,0.03143151\n",
            "to,-0.012192307,-0.0003634245\n",
            "is,0.04268571,-0.030352322\n",
            "br,0.015085416,0.05109066\n",
            "in,0.07507412,0.04886918\n",
            "it,0.05765266,-0.06532868\n",
            "i,0.00842808,-0.012874222\n",
            "this,0.016932802,0.044004556\n",
            "that,-0.015341766,-0.011750978\n",
            "was,0.028710917,0.08952224\n",
            "as,0.02690627,-0.007429045\n",
            "for,-0.056282505,-0.023144525\n",
            "with,0.02420667,0.0006163776\n"
          ],
          "name": "stdout"
        }
      ]
    },
    {
      "cell_type": "code",
      "metadata": {
        "id": "T4Gk0GQue-vE",
        "colab": {
          "base_uri": "https://localhost:8080/",
          "height": 17
        },
        "outputId": "90e84739-a63f-4945-c361-b867fb8bcc0b"
      },
      "source": [
        "files.download(filename)"
      ],
      "execution_count": null,
      "outputs": [
        {
          "output_type": "display_data",
          "data": {
            "application/javascript": [
              "\n",
              "    async function download(id, filename, size) {\n",
              "      if (!google.colab.kernel.accessAllowed) {\n",
              "        return;\n",
              "      }\n",
              "      const div = document.createElement('div');\n",
              "      const label = document.createElement('label');\n",
              "      label.textContent = `Downloading \"${filename}\": `;\n",
              "      div.appendChild(label);\n",
              "      const progress = document.createElement('progress');\n",
              "      progress.max = size;\n",
              "      div.appendChild(progress);\n",
              "      document.body.appendChild(div);\n",
              "\n",
              "      const buffers = [];\n",
              "      let downloaded = 0;\n",
              "\n",
              "      const channel = await google.colab.kernel.comms.open(id);\n",
              "      // Send a message to notify the kernel that we're ready.\n",
              "      channel.send({})\n",
              "\n",
              "      for await (const message of channel.messages) {\n",
              "        // Send a message to notify the kernel that we're ready.\n",
              "        channel.send({})\n",
              "        if (message.buffers) {\n",
              "          for (const buffer of message.buffers) {\n",
              "            buffers.push(buffer);\n",
              "            downloaded += buffer.byteLength;\n",
              "            progress.value = downloaded;\n",
              "          }\n",
              "        }\n",
              "      }\n",
              "      const blob = new Blob(buffers, {type: 'application/binary'});\n",
              "      const a = document.createElement('a');\n",
              "      a.href = window.URL.createObjectURL(blob);\n",
              "      a.download = filename;\n",
              "      div.appendChild(a);\n",
              "      a.click();\n",
              "      div.remove();\n",
              "    }\n",
              "  "
            ],
            "text/plain": [
              "<IPython.core.display.Javascript object>"
            ]
          },
          "metadata": {
            "tags": []
          }
        },
        {
          "output_type": "display_data",
          "data": {
            "application/javascript": [
              "download(\"download_0ecb187b-37e6-407a-b1ca-eb2d116816db\", \"word_vec.csv\", 309127)"
            ],
            "text/plain": [
              "<IPython.core.display.Javascript object>"
            ]
          },
          "metadata": {
            "tags": []
          }
        }
      ]
    },
    {
      "cell_type": "code",
      "metadata": {
        "id": "opcb3iEzfJh4",
        "colab": {
          "base_uri": "https://localhost:8080/",
          "height": 500
        },
        "outputId": "cd183361-4d34-43ad-bdf6-26dede342c61"
      },
      "source": [
        "plt.figure  (figsize=(17,8))\n",
        "plt.subplot(1,1,1)\n",
        "plt.scatter(embedding_matrix[:,0],embedding_matrix[:,1])"
      ],
      "execution_count": null,
      "outputs": [
        {
          "output_type": "execute_result",
          "data": {
            "text/plain": [
              "<matplotlib.collections.PathCollection at 0x7f085e3fc390>"
            ]
          },
          "metadata": {
            "tags": []
          },
          "execution_count": 18
        },
        {
          "output_type": "display_data",
          "data": {
            "image/png": "[encoded data removed]",
            "text/plain": [
              "<Figure size 1224x576 with 1 Axes>"
            ]
          },
          "metadata": {
            "tags": [],
            "needs_background": "light"
          }
        }
      ]
    },
    {
      "cell_type": "code",
      "metadata": {
        "id": "p-MAuQVjfm1h",
        "colab": {
          "base_uri": "https://localhost:8080/",
          "height": 34
        },
        "outputId": "6a775b07-d1ab-4284-e515-794dae3cce65"
      },
      "source": [
        "review = ['low','poor','ill','nasty',\n",
        "          'excellent','wonderful','great','good','splendid','cool','class']\n",
        "enc_review = []\n",
        "for word in review:\n",
        "  enc_review.append(word_i[word])\n",
        "enc_review"
      ],
      "execution_count": null,
      "outputs": [
        {
          "output_type": "execute_result",
          "data": {
            "text/plain": [
              "[364, 338, 1815, 1606, 321, 389, 87, 52, 3620, 646, 707]"
            ]
          },
          "metadata": {
            "tags": []
          },
          "execution_count": 27
        }
      ]
    },
    {
      "cell_type": "code",
      "metadata": {
        "id": "J58aMlBCglB_",
        "colab": {
          "base_uri": "https://localhost:8080/",
          "height": 204
        },
        "outputId": "8ffa0778-0d2c-4d77-d51e-83eb69685ffc"
      },
      "source": [
        "review_vectors = embedding_matrix[enc_review]\n",
        "review_vectors"
      ],
      "execution_count": null,
      "outputs": [
        {
          "output_type": "execute_result",
          "data": {
            "text/plain": [
              "array([[-0.16222477,  0.26088873],\n",
              "       [-0.5654777 ,  0.69199693],\n",
              "       [-0.34801197,  0.3669497 ],\n",
              "       [-0.05998825,  0.13995177],\n",
              "       [ 0.74124616, -0.8410569 ],\n",
              "       [ 0.5515972 , -0.66253513],\n",
              "       [ 0.40118733, -0.49621943],\n",
              "       [ 0.21543716, -0.12949598],\n",
              "       [ 0.16157885, -0.24481797],\n",
              "       [ 0.21675947, -0.22316955],\n",
              "       [ 0.04371051,  0.02183819]], dtype=float32)"
            ]
          },
          "metadata": {
            "tags": []
          },
          "execution_count": 28
        }
      ]
    },
    {
      "cell_type": "code",
      "metadata": {
        "id": "_oo1xP-mhEOw",
        "colab": {
          "base_uri": "https://localhost:8080/",
          "height": 483
        },
        "outputId": "e0f5e347-74b8-4759-b0f3-e446304e081b"
      },
      "source": [
        "plt.figure  (figsize=(17,8))\n",
        "\n",
        "plt.subplot(1,1,1)\n",
        "plt.scatter(review_vectors[:,0],review_vectors[0:,1], s = 80)\n",
        "for i, txt in enumerate(review):\n",
        "  plt.annotate(txt, (review_vectors[i,0],review_vectors[i,1]))"
      ],
      "execution_count": null,
      "outputs": [
        {
          "output_type": "display_data",
          "data": {
            "image/png": "[encoded data removed]",
            "text/plain": [
              "<Figure size 1224x576 with 1 Axes>"
            ]
          },
          "metadata": {
            "tags": [],
            "needs_background": "light"
          }
        }
      ]
    },
    {
      "cell_type": "code",
      "metadata": {
        "id": "4mS-MIJ-hgiy"
      },
      "source": [
        ""
      ],
      "execution_count": null,
      "outputs": []
    }
  ]
}